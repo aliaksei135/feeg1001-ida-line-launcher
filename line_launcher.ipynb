{
 "cells": [
  {
   "cell_type": "markdown",
   "metadata": {},
   "source": [
    "## A basic trajectory calculation"
   ]
  },
  {
   "cell_type": "markdown",
   "metadata": {},
   "source": [
    "Import modules:"
   ]
  },
  {
   "cell_type": "code",
   "execution_count": 1,
   "metadata": {
    "collapsed": false
   },
   "outputs": [
    {
     "name": "stdout",
     "output_type": "stream",
     "text": [
      "Populating the interactive namespace from numpy and matplotlib\n"
     ]
    }
   ],
   "source": [
    "%pylab inline\n",
    "import numpy as np #for the maths\n",
    "import matplotlib as pl #for the plotting"
   ]
  },
  {
   "cell_type": "markdown",
   "metadata": {},
   "source": [
    "The velocity of the sphere will be affected by gravity:  $f=mg$ ($g\\approx9.81$ m/s$^2$)."
   ]
  },
  {
   "cell_type": "markdown",
   "metadata": {},
   "source": [
    "And aerodynamic drag: $C_D\\approx\\frac{24}{Re} \n",
    "+ \\frac{2.6\\frac{Re}{5}}{1+\\frac{Re}{5}^{1.52}} \n",
    "+ \\frac{0.411\\frac{Re}{263000}^{-7.94}}{1+\\frac{Re}{263000}^{-8}}\n",
    "+ \\frac{Re^{0.8}}{461000}$"
   ]
  },
  {
   "cell_type": "markdown",
   "metadata": {},
   "source": [
    "where $C_D$ is the drag coefficient and $Re$ the Reynolds number ($Re=\\frac{vd}{\\nu}$, where $d$ is the diameter of the sphere and $\\nu$ the kinematic viscosity of air ($\\approx1.48\\times$10$^{−5}$ m$^2$/s). We'll create a function to calculate the drag coefficient for a given Reynolds number:"
   ]
  },
  {
   "cell_type": "code",
   "execution_count": 2,
   "metadata": {
    "collapsed": true
   },
   "outputs": [],
   "source": [
    "def spherecd(Re):\n",
    "    cd = (24/Re) + (2.6*(Re/5))/(1+(Re/5)**1.52) + (0.411*(Re/263000)**-7.94)/(1+(Re/263000)**-8) + (Re**0.8/461000);\n",
    "    return cd"
   ]
  },
  {
   "cell_type": "code",
   "execution_count": 3,
   "metadata": {
    "collapsed": false
   },
   "outputs": [
    {
     "data": {
      "text/plain": [
       "0.393564428240075"
      ]
     },
     "execution_count": 3,
     "metadata": {},
     "output_type": "execute_result"
    }
   ],
   "source": [
    "spherecd(10000)"
   ]
  },
  {
   "cell_type": "markdown",
   "metadata": {
    "collapsed": true
   },
   "source": [
    "Now we'll define our constants, arrays and starting conditions:"
   ]
  },
  {
   "cell_type": "code",
   "execution_count": 4,
   "metadata": {
    "collapsed": false
   },
   "outputs": [],
   "source": [
    "# constants\n",
    "rho = 1.2 # density of air\n",
    "nu = 1.48e-5 # kinematic viscosity of air\n",
    "g = 9.81 # acceleration due to gravity\n",
    "d = 0.04 # diameter of sphere\n",
    "S = pi * (d / 2)**2 # frontal area of sphere\n",
    "m = 0.015 # mass of sphere\n",
    "deltaT = 0.001 # time step for our simulation\n",
    "\n",
    "# initialize arrays\n",
    "# we expect the sphere to be in the air no more than three seconds \n",
    "# so set our array to be of length 3/deltaT (this is quite crude, but works!)\n",
    "l = round(3/deltaT)\n",
    "# now initialize arrays for quntities of interest\n",
    "h = zeros(l) # height of sphere\n",
    "x = zeros(l) # horizontal ordinate of sphere\n",
    "vX = zeros(l) # horizontal velocity\n",
    "vY = zeros(l) # vertical velocity\n",
    "Re = zeros(l) # Reynolds number\n",
    "cd = zeros(l) # drag coefficient\n",
    "\n",
    "# starting conditions\n",
    "h[0] = 0.1 # height of sphere at start\n",
    "x[0] = 0 # horizontal ordinate of sphere at start\n",
    "v = 10 # initial velocity of sphere [m/s]\n",
    "alpha = pi/6 # initial angle of trajectory\n",
    "vX[0] = v * cos(alpha) # initial horizontal velocity\n",
    "vY[0] = v * sin(alpha) # initial vertical velocity\n",
    "Re[0] = sqrt(vX[0]**2 + vY[0]**2) * d / nu # initial Reynolds number\n",
    "cd[0] = spherecd(Re[0]) # initial drag coefficient"
   ]
  },
  {
   "cell_type": "markdown",
   "metadata": {},
   "source": [
    "Now we need to caculate the afffect of drag ($1/2 \\rho v^2 S C_D$) and gravity on the sphere at successive time steps and stop when the sphere drops below a certain point (here $h=0$). We'll do this in a while loop:"
   ]
  },
  {
   "cell_type": "code",
   "execution_count": 5,
   "metadata": {
    "collapsed": false
   },
   "outputs": [],
   "source": [
    "i=0\n",
    "while (h[i] > 0):\n",
    "    vY[i+1] = vY[i] - (0.5 * rho * vY[i]**2 * S * cd[i] / m) * deltaT # vel. change due to vertical drag\n",
    "    vX[i+1] = vX[i] - (0.5 * rho * vX[i]**2 * S * cd[i] / m) * deltaT # vel. change due to horizontal drag\n",
    "    vY[i+1] = vY[i+1] - g * deltaT # vel. change due to gravity\n",
    "    x[i+1] = x[i] + vX[i+1] * deltaT # new horizontal position\n",
    "    h[i+1] = h[i] + vY[i+1] * deltaT # new vertical position\n",
    "    Re[i+1] = sqrt(vX[i+1]**2 + vY[i+1]**2) * d / nu # Reynolds number\n",
    "    cd[i+1] = spherecd(Re[i+1]) # drag coefficient\n",
    "    i = i + 1"
   ]
  },
  {
   "cell_type": "markdown",
   "metadata": {},
   "source": [
    "Now we can plot the results!"
   ]
  },
  {
   "cell_type": "code",
   "execution_count": 8,
   "metadata": {
    "collapsed": false
   },
   "outputs": [
    {
     "data": {
      "text/plain": [
       "<matplotlib.text.Text at 0x10f0cb438>"
      ]
     },
     "execution_count": 8,
     "metadata": {},
     "output_type": "execute_result"
    },
    {
     "data": {
      "image/png": "[encoded data removed]",
      "text/plain": [
       "<matplotlib.figure.Figure at 0x10f096208>"
      ]
     },
     "metadata": {},
     "output_type": "display_data"
    }
   ],
   "source": [
    "plot(x[0:i], h[0:i])\n",
    "xlabel('distance [m]')\n",
    "ylabel('height [m]')"
   ]
  },
  {
   "cell_type": "markdown",
   "metadata": {},
   "source": [
    "## What about imparting the intitial velocity on the sphere?"
   ]
  },
  {
   "cell_type": "markdown",
   "metadata": {},
   "source": [
    "Let's say we're using a spring of stiffness $k=500$ Nm which has beed compressed 5 cm:"
   ]
  },
  {
   "cell_type": "code",
   "execution_count": 9,
   "metadata": {
    "collapsed": false
   },
   "outputs": [],
   "source": [
    "deltaT = 0.00001 # We'll need a much smaller time step\n",
    "l = round(0.1 / deltaT)\n",
    "x = zeros(l) # spring length\n",
    "x[0] = 0.05 # initial deflection [m]\n",
    "k = 500 # spring constant [Nm]"
   ]
  },
  {
   "cell_type": "markdown",
   "metadata": {},
   "source": [
    "We then go through basically the same procedure as above, but stop when the spring compression is zero (we also ignore gravity):"
   ]
  },
  {
   "cell_type": "code",
   "execution_count": 10,
   "metadata": {
    "collapsed": false
   },
   "outputs": [
    {
     "name": "stdout",
     "output_type": "stream",
     "text": [
      "9.13371360763\n"
     ]
    },
    {
     "data": {
      "text/plain": [
       "<matplotlib.text.Text at 0x10f422940>"
      ]
     },
     "execution_count": 10,
     "metadata": {},
     "output_type": "execute_result"
    },
    {
     "data": {
      "image/png": "[encoded data removed]",
      "text/plain": [
       "<matplotlib.figure.Figure at 0x10f3e1160>"
      ]
     },
     "metadata": {},
     "output_type": "display_data"
    }
   ],
   "source": [
    "rho = 1.2 # density of air\n",
    "nu = 1.48e-5 # kinematic viscosity of air\n",
    "g = 9.81 # acceleration due to gravity\n",
    "d = 0.04 # diameter of sphere\n",
    "S = pi * (d / 2)**2 # frontal area of sphere\n",
    "m = 0.015 # mass of sphere\n",
    "\n",
    "v = zeros(l) # velocity\n",
    "Re = zeros(l) # Reynolds number\n",
    "cd = zeros(l) # drag coefficient\n",
    "f = zeros(l) # spring force\n",
    "\n",
    "v[0] = 0.001 # need to use a very small initial velocity to avoid divide by zeros\n",
    "Re[0] = v[0] * d / nu # initial Reynolds number\n",
    "cd[0] = spherecd(Re[0]) # initial drag coefficient\n",
    "\n",
    "i = 0;\n",
    "while (x[i] > 0):\n",
    "    fs = x[i] * k # spring force\n",
    "    fd = -0.5 * rho * v[i]**2 * S * cd[i] # drag force\n",
    "    f[i] = fs + fd # total force\n",
    "    a = (fs + fd) / m # acceleration\n",
    "    v[i+1] = v[i] + a * deltaT # new velocity\n",
    "    x[i+1] = x[i] - v[i] * deltaT # new position\n",
    "    Re[i] = v[i+1] * S / nu # Reynolds number\n",
    "    cd[i+1] = spherecd(Re[i]) # drag coefficient\n",
    "    i = i + 1\n",
    "print(v[i])\n",
    "plot(x[0:i], v[0:i])\n",
    "xlabel('spring compression [m]')\n",
    "ylabel('velocity [m]')"
   ]
  },
  {
   "cell_type": "markdown",
   "metadata": {},
   "source": [
    "We could plug this exit velocity back into the calculation above to find out the trajectory at this spring setting for different launch angles. Note that all these calculations assume the sphere is moving in isolation of other objects, which may cause changes in drag, e.g. the drag would be different if the sphere were travelling down a tubde while the spring is acting on it. You can of course use different formulas for the drag and/or calibrate your code with experiments."
   ]
  }
 ],
 "metadata": {
  "anaconda-cloud": {},
  "kernelspec": {
   "display_name": "Python [default]",
   "language": "python",
   "name": "python3"
  },
  "language_info": {
   "codemirror_mode": {
    "name": "ipython",
    "version": 3
   },
   "file_extension": ".py",
   "mimetype": "text/x-python",
   "name": "python",
   "nbconvert_exporter": "python",
   "pygments_lexer": "ipython3",
   "version": "3.4.5"
  }
 },
 "nbformat": 4,
 "nbformat_minor": 0
}
